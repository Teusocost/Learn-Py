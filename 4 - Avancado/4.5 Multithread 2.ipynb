{
 "cells": [
  {
   "cell_type": "markdown",
   "metadata": {},
   "source": [
    "##### Criando classe cujo cada objeto criado se torna uma Thread\n",
    "###### Isso deixa tudo mais poderoso e eficiente se o codigo envolver multiplos processos, por exemplo."
   ]
  },
  {
   "cell_type": "code",
   "execution_count": null,
   "metadata": {},
   "outputs": [],
   "source": [
    "import time \n",
    "import threading\n",
    "\n",
    "class my_thread(threading.Thread):\n",
    "    def __init__(self, tempo):\n",
    "        super().__init__()\n",
    "        self.tempo = tempo\n",
    "        self.running = True\n",
    "\n",
    "    def run(self):\n",
    "        while self.running:\n",
    "            time.sleep(self.tempo)\n",
    "            print('Process ', self.tempo)\n",
    "        print('stoped')\n",
    "\n",
    "    def stop(self):\n",
    "        self.running = False\n",
    "        print('Thread stopped')\n",
    "\n",
    "\n",
    "if __name__ == \"__main__\": \n",
    "    thread1 = my_thread(2)\n",
    "    thread2 = my_thread(3)\n",
    "\n",
    "    thread1.start()\n",
    "    thread2.start()\n",
    "\n",
    "    print(\"esperando threads...\")\n",
    "    time.sleep(10)\n",
    "\n",
    "    thread1.stop()\n",
    "    thread2.stop()"
   ]
  },
  {
   "cell_type": "markdown",
   "metadata": {},
   "source": [
    "#### Utilizando multiprocessing\n",
    "###### Cria varios processos ao invés de threads"
   ]
  },
  {
   "cell_type": "code",
   "execution_count": 9,
   "metadata": {},
   "outputs": [
    {
     "name": "stdout",
     "output_type": "stream",
     "text": [
      "esperando threads...\n",
      "Process stopped\n",
      "Process stopped\n"
     ]
    }
   ],
   "source": [
    "\n",
    "import time \n",
    "import multiprocessing\n",
    "\n",
    "class my_Process(multiprocessing.Process):\n",
    "    def __init__(self, tempo):\n",
    "        super().__init__()\n",
    "        self.tempo = tempo\n",
    "        self.stop_event = multiprocessing.Event()\n",
    "\n",
    "    def run(self):\n",
    "        while not self.stop_event.is_set():\n",
    "            time.sleep(self.tempo)\n",
    "            print('Process ', self.tempo)\n",
    "        print('stoped')\n",
    "\n",
    "    def stop(self):\n",
    "        self.stop_event.set()  # Set the event to True, making the thread stop\n",
    "        print('Process stopped')\n",
    "\n",
    "\n",
    "if __name__ == \"__main__\": \n",
    "    process1 = my_Process(2)\n",
    "    process2 = my_Process(3)\n",
    "\n",
    "    process1.start()\n",
    "    process2.start()\n",
    "\n",
    "    print(\"esperando threads...\")\n",
    "    time.sleep(10)\n",
    "\n",
    "    process1.stop()\n",
    "    process2.stop()"
   ]
  }
 ],
 "metadata": {
  "kernelspec": {
   "display_name": "base",
   "language": "python",
   "name": "python3"
  },
  "language_info": {
   "codemirror_mode": {
    "name": "ipython",
    "version": 3
   },
   "file_extension": ".py",
   "mimetype": "text/x-python",
   "name": "python",
   "nbconvert_exporter": "python",
   "pygments_lexer": "ipython3",
   "version": "3.12.4"
  }
 },
 "nbformat": 4,
 "nbformat_minor": 2
}
