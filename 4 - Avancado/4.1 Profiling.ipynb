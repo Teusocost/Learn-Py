{
 "cells": [
  {
   "cell_type": "code",
   "execution_count": null,
   "metadata": {},
   "outputs": [],
   "source": [
    "import cProfile\n",
    "import time\n",
    "\n",
    "\n",
    "def funcao_demorada():\n",
    "    time.sleep(0.1)\n",
    "\n",
    "def funcao_demorada2():\n",
    "    time.sleep(0.2)\n",
    "\n",
    "def main():\n",
    "    for _ in range(5):\n",
    "        funcao_demorada()\n",
    "        funcao_demorada2()\n",
    "\n",
    "if __name__ == \"__main__\":\n",
    "    #iniciando o profiler\n",
    "    profiler = cProfile.Profile() #Cria o obejto baseado no profiler\n",
    "    profiler.enable() #Habilita o Profiler\n",
    "\n",
    "    #inica a função principal do software\n",
    "    main()\n",
    "    \n",
    "    profiler.disable() \n",
    "    profiler.print_stats(sort='cumulative') "
   ]
  }
 ],
 "metadata": {
  "kernelspec": {
   "display_name": "base",
   "language": "python",
   "name": "python3"
  },
  "language_info": {
   "codemirror_mode": {
    "name": "ipython",
    "version": 3
   },
   "file_extension": ".py",
   "mimetype": "text/x-python",
   "name": "python",
   "nbconvert_exporter": "python",
   "pygments_lexer": "ipython3",
   "version": "3.12.4"
  }
 },
 "nbformat": 4,
 "nbformat_minor": 2
}
