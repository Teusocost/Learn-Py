{
 "cells": [
  {
   "cell_type": "code",
   "execution_count": 1,
   "metadata": {},
   "outputs": [
    {
     "name": "stdout",
     "output_type": "stream",
     "text": [
      "78093\n",
      "77912\n"
     ]
    }
   ],
   "source": [
    "import gc\n",
    "class Pessoa:\n",
    "    def __init__(self,nome):\n",
    "        self.nome = nome\n",
    "        self.amigo = None\n",
    "\n",
    "alice = Pessoa(\"Alice\")\n",
    "bob = Pessoa(\"Bob\")\n",
    "\n",
    "alice.amigo = bob\n",
    "bob.amigo = alice\n",
    "\n",
    "print(len(gc.get_objects()))\n",
    "\n",
    "#coletando lixo manualmente\n",
    "gc.collect()\n",
    "\n",
    "#verificando quantidade de objetos em memória\n",
    "print(len(gc.get_objects()))"
   ]
  },
  {
   "cell_type": "markdown",
   "metadata": {},
   "source": [
    "#### Memory profiller (tem que rodar em arquivo .py)"
   ]
  },
  {
   "cell_type": "code",
   "execution_count": 1,
   "metadata": {},
   "outputs": [
    {
     "name": "stdout",
     "output_type": "stream",
     "text": [
      "ERROR: Could not find file C:\\Users\\mateu\\AppData\\Local\\Temp\\ipykernel_7996\\2725564486.py\n"
     ]
    }
   ],
   "source": [
    "from memory_profiler import profile\n",
    "\n",
    "@profile\n",
    "def exemplo_uso_memoria():\n",
    "    numeros = list(range(10000))\n",
    "    soma = sum(numeros)\n",
    "    del numeros\n",
    "\n",
    "exemplo_uso_memoria()"
   ]
  },
  {
   "cell_type": "markdown",
   "metadata": {},
   "source": [
    "Analisando memoria lista vs tupla"
   ]
  },
  {
   "cell_type": "code",
   "execution_count": 2,
   "metadata": {},
   "outputs": [
    {
     "name": "stdout",
     "output_type": "stream",
     "text": [
      "136\n",
      "112\n"
     ]
    }
   ],
   "source": [
    "import sys\n",
    "\n",
    "#######\n",
    "lista = [1,2,3,4,5,6,7,8,9]\n",
    "tupla = (1,2,3,4,5,6,7,8,9)\n",
    "print(sys.getsizeof(lista))\n",
    "print(sys.getsizeof(tupla))"
   ]
  }
 ],
 "metadata": {
  "kernelspec": {
   "display_name": "base",
   "language": "python",
   "name": "python3"
  },
  "language_info": {
   "codemirror_mode": {
    "name": "ipython",
    "version": 3
   },
   "file_extension": ".py",
   "mimetype": "text/x-python",
   "name": "python",
   "nbconvert_exporter": "python",
   "pygments_lexer": "ipython3",
   "version": "3.12.4"
  }
 },
 "nbformat": 4,
 "nbformat_minor": 2
}
