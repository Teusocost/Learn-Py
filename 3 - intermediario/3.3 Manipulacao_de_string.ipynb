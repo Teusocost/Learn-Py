{
 "cells": [
  {
   "cell_type": "code",
   "execution_count": 12,
   "metadata": {},
   "outputs": [
    {
     "name": "stdout",
     "output_type": "stream",
     "text": [
      "['curso', 'de', 'pyhton', 'mateus', 'costa']\n",
      "['curso', 'de', 'pyhton mateus costa']\n",
      "curso de pyhton mateus costa\n"
     ]
    }
   ],
   "source": [
    "frase = \"curso de pyhton mateus costa\"\n",
    "\n",
    "palavras = frase.split()\n",
    "print(palavras)\n",
    "\n",
    "palavras = frase.split(' ',2)\n",
    "print(palavras)\n",
    "\n",
    "frase_recriada = ' '.join(palavras)\n",
    "print(frase_recriada)\n"
   ]
  },
  {
   "cell_type": "code",
   "execution_count": 14,
   "metadata": {},
   "outputs": [
    {
     "name": "stdout",
     "output_type": "stream",
     "text": [
      "bob 30 1.9\n",
      "Ola, meu nome é bob, tenho 30 anos e minha altura é 1.9 metros\n"
     ]
    }
   ],
   "source": [
    "nome = \"bob\"\n",
    "idade = 30\n",
    "altura = 1.9\n",
    "\n",
    "mensagem = str(nome) +' '+ str(idade) + ' '+ str(altura)\n",
    "print(mensagem)\n",
    "\n",
    "# or\n",
    "\n",
    "mensagem = \"Ola, meu nome é {}, tenho {} anos e minha altura é {:.2} metros\".format(nome, idade, altura)\n",
    "print(mensagem)"
   ]
  }
 ],
 "metadata": {
  "kernelspec": {
   "display_name": "base",
   "language": "python",
   "name": "python3"
  },
  "language_info": {
   "codemirror_mode": {
    "name": "ipython",
    "version": 3
   },
   "file_extension": ".py",
   "mimetype": "text/x-python",
   "name": "python",
   "nbconvert_exporter": "python",
   "pygments_lexer": "ipython3",
   "version": "3.11.7"
  }
 },
 "nbformat": 4,
 "nbformat_minor": 2
}
