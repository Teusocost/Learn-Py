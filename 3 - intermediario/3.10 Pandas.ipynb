{
 "cells": [
  {
   "cell_type": "code",
   "execution_count": null,
   "metadata": {},
   "outputs": [],
   "source": [
    "import pandas as pd\n",
    "\n",
    "df = pd.read_csv('dataset.csv')\n",
    "print(df.head()) #printa apendas as 5 primeiras linhas do dataset\n",
    "\n",
    "print(\"Vizualidando os dados\")\n",
    "df_10linhas = df.head(10)  #pega apendas as 10 primeiras linhas do dataset\n",
    "print(df_10linhas)"
   ]
  },
  {
   "cell_type": "markdown",
   "metadata": {},
   "source": [
    "#### Removendo Linhas"
   ]
  },
  {
   "cell_type": "code",
   "execution_count": null,
   "metadata": {},
   "outputs": [],
   "source": [
    "\n",
    "df_sem_linha_2 = df.drop(2) #remove linha 2\n",
    "#print(df_sem_linha_2)\n",
    "\n",
    "print(\"removendo Bruno\")\n",
    "df_sem_bruno = df[df['Nome']!='Bruno'] #Retorna tudo sem bruno\n",
    "#print(df_sem_bruno.head(10))\n",
    "\n",
    "df_sem_hugo = df[~((df['Nome'] == 'Hugo') & (df['Idade'] == 29) & (df['Cidade'] == 'Porto Alegre'))] # O cifrao retorna todos que não possuem as caracterisiticas citadas\n",
    "print(df_sem_hugo.head(5))"
   ]
  },
  {
   "cell_type": "markdown",
   "metadata": {},
   "source": [
    "### Removendo Colunas"
   ]
  },
  {
   "cell_type": "code",
   "execution_count": null,
   "metadata": {},
   "outputs": [],
   "source": [
    "df_sem_cidade = df.drop('Cidade', axis=1)\n",
    "print(df_sem_cidade)"
   ]
  },
  {
   "cell_type": "markdown",
   "metadata": {},
   "source": [
    "##### Duplicados"
   ]
  },
  {
   "cell_type": "code",
   "execution_count": null,
   "metadata": {},
   "outputs": [],
   "source": [
    "duplicados = df[df.duplicated()]\n",
    "print(duplicados)\n",
    "\n",
    "print(\"Verificando nomes duplicados\")\n",
    "duplicados_nomes = df[df['Nome'].duplicated()]\n",
    "print(duplicados_nomes)\n",
    "\n",
    "print(\"Removendo linhas duplicadas\")\n",
    "df = df.drop_duplicates()"
   ]
  },
  {
   "cell_type": "markdown",
   "metadata": {},
   "source": [
    "#### Agrupando dados"
   ]
  },
  {
   "cell_type": "code",
   "execution_count": null,
   "metadata": {},
   "outputs": [],
   "source": [
    "print('Agrupadndo por Estado Civil e obtendo média de idade')  \n",
    "media_idade_estado_civil = df.groupby('Estado Civil')['Idade'].mean()\n",
    "print(media_idade_estado_civil)"
   ]
  }
 ],
 "metadata": {
  "kernelspec": {
   "display_name": "base",
   "language": "python",
   "name": "python3"
  },
  "language_info": {
   "codemirror_mode": {
    "name": "ipython",
    "version": 3
   },
   "file_extension": ".py",
   "mimetype": "text/x-python",
   "name": "python",
   "nbconvert_exporter": "python",
   "pygments_lexer": "ipython3",
   "version": "3.12.4"
  }
 },
 "nbformat": 4,
 "nbformat_minor": 2
}
