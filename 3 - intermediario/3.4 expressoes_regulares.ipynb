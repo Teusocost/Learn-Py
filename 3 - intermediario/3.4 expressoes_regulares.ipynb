{
 "cells": [
  {
   "cell_type": "code",
   "execution_count": null,
   "metadata": {},
   "outputs": [],
   "source": [
    "\t\n",
    "# ^\t: Âncora de inicio de linha.\t\n",
    "# $\t: Ancora de final de linha\t\n",
    "# .\t: Corresponde a qualquer caractere, exceto uma nova linha\t\n",
    "# * : Corresponde a zero ou mais ocorrências do caractere anterior\t\t\n",
    "# +\t: Corresponde a uma ou mais ocorrÇencias do caractere anterior\t\n",
    "# ?\t: Torna o caractere anterior opcional\t\n",
    "# \\\t: Escape, usado para tratar caracteres especiais como liter\t\n",
    "\n"
   ]
  },
  {
   "cell_type": "code",
   "execution_count": null,
   "metadata": {},
   "outputs": [],
   "source": [
    "import re\n",
    "\n",
    "texto = \"Python é uma das linguagens de programaçao mais poderosas\"\n",
    "padrão = r'^Python' #sempre usa o r quando trabalhar com exp regulares\n",
    "resultado = re.search(padrão, texto)\n",
    "\n",
    "if resultado:\n",
    "    print(\"Encontrado\", resultado.group())\n",
    "else:\n",
    "    print(\"Não encontrado\")"
   ]
  },
  {
   "cell_type": "code",
   "execution_count": null,
   "metadata": {},
   "outputs": [],
   "source": [
    "import re\n",
    "\n",
    "texto = \"Python é uma das linguagens de programaçao mais poderosas\"\n",
    "padrão = r'poderosas$' #sempre usa o r quando trabalhar com exp regulares\n",
    "resultado = re.search(padrão, texto)\n",
    "\n",
    "if resultado:\n",
    "    print(\"Encontrado\", resultado.group())\n",
    "else:\n",
    "    print(\"Não encontrado\")"
   ]
  },
  {
   "cell_type": "markdown",
   "metadata": {},
   "source": [
    "Ex com email"
   ]
  },
  {
   "cell_type": "code",
   "execution_count": 14,
   "metadata": {},
   "outputs": [
    {
     "name": "stdout",
     "output_type": "stream",
     "text": [
      "Encontrado usuario@exemplo.com\n"
     ]
    }
   ],
   "source": [
    "email = \"usuario@exemplo.com\"\n",
    "padrão_email = r'^[a-zA-Z0-9._%+-]+@[a-zA-Z0-9.-]+\\.[a-zA-Z]{2,}$'\n",
    "\n",
    "resultado = re.match(padrão_email, email)\n",
    "\n",
    "if resultado:\n",
    "    print(\"Encontrado\", resultado.group())\n",
    "else:\n",
    "    print(\"Não encontrado\")"
   ]
  },
  {
   "cell_type": "code",
   "execution_count": 35,
   "metadata": {},
   "outputs": [
    {
     "name": "stdout",
     "output_type": "stream",
     "text": [
      "Telefone: (11) 123-123-123\n"
     ]
    }
   ],
   "source": [
    "texto = \"Telefone de contato: (11) 123-123-123 opa\"\n",
    "\n",
    "padrao_telefone = r'\\(\\d{2}\\) \\d{3}-\\d{3}-\\d{3}.*?'\n",
    "\n",
    "resultado = re.search(padrao_telefone,texto)\n",
    "\n",
    "if resultado:\n",
    "    print(\"Telefone:\", resultado.group())\n",
    "else:\n",
    "    print(\"Não encontrado\")\n"
   ]
  }
 ],
 "metadata": {
  "kernelspec": {
   "display_name": "base",
   "language": "python",
   "name": "python3"
  },
  "language_info": {
   "codemirror_mode": {
    "name": "ipython",
    "version": 3
   },
   "file_extension": ".py",
   "mimetype": "text/x-python",
   "name": "python",
   "nbconvert_exporter": "python",
   "pygments_lexer": "ipython3",
   "version": "3.11.7"
  }
 },
 "nbformat": 4,
 "nbformat_minor": 2
}
