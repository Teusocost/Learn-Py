{
 "cells": [
  {
   "cell_type": "markdown",
   "metadata": {},
   "source": [
    "Maneira dificil de fazer a função..."
   ]
  },
  {
   "cell_type": "code",
   "execution_count": 4,
   "metadata": {},
   "outputs": [
    {
     "name": "stdout",
     "output_type": "stream",
     "text": [
      "6\n"
     ]
    }
   ],
   "source": [
    "def conta_diferentes(lista):\n",
    "    numero_diferentes = []\n",
    "\n",
    "    for numero_lista in lista:\n",
    "        encontrado = False\n",
    "        for numero_diferente in numero_diferentes:\n",
    "            if numero_lista == numero_diferente:\n",
    "                encontrado = True\n",
    "                break\n",
    "        \n",
    "        if encontrado == False:\n",
    "            numero_diferentes.append(numero_lista)\n",
    "\n",
    "    return len(numero_diferentes)\n",
    "\n",
    "numeros = [1,2,3,2,5,1,6,8]\n",
    "\n",
    "print(conta_diferentes(numeros))"
   ]
  },
  {
   "cell_type": "markdown",
   "metadata": {},
   "source": [
    "Maneira melhor"
   ]
  },
  {
   "cell_type": "code",
   "execution_count": 7,
   "metadata": {},
   "outputs": [
    {
     "name": "stdout",
     "output_type": "stream",
     "text": [
      "6\n"
     ]
    }
   ],
   "source": [
    "def conta_diferentes(lista):\n",
    "    numero_diferentes = []\n",
    "\n",
    "    for numero_lista in lista:\n",
    "        if numero_lista not in numero_diferentes:\n",
    "            numero_diferentes.append(numero_lista)\n",
    "\n",
    "    return len(numero_diferentes)\n",
    "\n",
    "numeros = [1,2,3,2,5,1,6,8]\n",
    "\n",
    "print(conta_diferentes(numeros))"
   ]
  },
  {
   "cell_type": "markdown",
   "metadata": {},
   "source": [
    "Maneira mais avançada"
   ]
  },
  {
   "cell_type": "code",
   "execution_count": 5,
   "metadata": {},
   "outputs": [
    {
     "name": "stdout",
     "output_type": "stream",
     "text": [
      "6\n"
     ]
    }
   ],
   "source": [
    "def conta_diferentes(lista):\n",
    "    return len(set(lista))\n",
    "\n",
    "\n",
    "numeros = [1,2,3,2,5,1,6,8]\n",
    "\n",
    "print(conta_diferentes(numeros))"
   ]
  }
 ],
 "metadata": {
  "kernelspec": {
   "display_name": "base",
   "language": "python",
   "name": "python3"
  },
  "language_info": {
   "codemirror_mode": {
    "name": "ipython",
    "version": 3
   },
   "file_extension": ".py",
   "mimetype": "text/x-python",
   "name": "python",
   "nbconvert_exporter": "python",
   "pygments_lexer": "ipython3",
   "version": "3.11.7"
  }
 },
 "nbformat": 4,
 "nbformat_minor": 2
}
