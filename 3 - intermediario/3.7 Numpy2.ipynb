{
 "cells": [
  {
   "cell_type": "code",
   "execution_count": 1,
   "metadata": {},
   "outputs": [
    {
     "name": "stdout",
     "output_type": "stream",
     "text": [
      "Numpy brodcasting\n",
      "[12 14 16 18 20]\n",
      "[11 24 39 56 75]\n"
     ]
    }
   ],
   "source": [
    "import numpy as np\n",
    "\n",
    "arr1 = np.array([ 1, 2, 3, 4, 5])\n",
    "arr2 = np.array([11,12,13,14,15])\n",
    "\n",
    "print(\"Numpy brodcasting\")\n",
    "\n",
    "soma_broadcast = arr1 + arr2\n",
    "mult_broadcast = arr1 * arr2\n",
    "print(soma_broadcast)\n",
    "print(mult_broadcast)"
   ]
  },
  {
   "cell_type": "code",
   "execution_count": 2,
   "metadata": {},
   "outputs": [
    {
     "name": "stdout",
     "output_type": "stream",
     "text": [
      "Array original\n",
      "[[ 0  1  2]\n",
      " [ 3  4  5]\n",
      " [ 9 10 11]]\n",
      "Linhas impares:\n",
      "[[3 4 5]]\n",
      "Linhas pares:\n",
      "[[ 0  1  2]\n",
      " [ 9 10 11]]\n",
      "coluna impares\n",
      "[[ 1]\n",
      " [ 4]\n",
      " [10]]\n",
      "coluna pares\n",
      "[[ 0  2]\n",
      " [ 3  5]\n",
      " [ 9 11]]\n"
     ]
    }
   ],
   "source": [
    "arr3 = np.array([[0,1,2],[3,4,5],[9,10,11]])\n",
    "print(\"Array original\")\n",
    "print(arr3)\n",
    "print(\"Linhas impares:\")\n",
    "print(arr3[1::2,:]) #começa pela linh 1 e pula de 2 em 2\n",
    "print(\"Linhas pares:\")\n",
    "print(arr3[0::2,:])\n",
    "\n",
    "print(\"coluna impares\")\n",
    "print(arr3[:,1::2])\n",
    "\n",
    "print(\"coluna pares\")\n",
    "print(arr3[:,0::2])"
   ]
  },
  {
   "cell_type": "code",
   "execution_count": null,
   "metadata": {},
   "outputs": [],
   "source": [
    "print(\"Criando np array inicaod com zeros\")\n",
    "arr4= np.zeros ((3,4))\n",
    "print(arr4)\n",
    "print(\"Criando np array inicaod com 1s\")\n",
    "arr4= np.ones ((3,3,4),dtype= np.int16)\n",
    "print(arr4)\n",
    "print(arr4.dtype.name) #para mostrar o tipo"
   ]
  },
  {
   "cell_type": "code",
   "execution_count": null,
   "metadata": {},
   "outputs": [],
   "source": [
    "print(\"Exemplo numpy multidimencional com valores random\")\n",
    "arr5 = np.random.randint(10, size=6)\n",
    "arr6 = np.random.randint(10, size=(3,4))\n",
    "arr7 = np.random.randint(10, size=(3,4,5))\n",
    "\n",
    "print(\" === Arr5 ===\")\n",
    "print(arr5)\n",
    "print(\" === Arr6 ===\")\n",
    "print(arr6)\n",
    "print(\" === Arr7 ===\")\n",
    "print(arr7)\n"
   ]
  },
  {
   "cell_type": "code",
   "execution_count": 107,
   "metadata": {},
   "outputs": [
    {
     "name": "stdout",
     "output_type": "stream",
     "text": [
      "Convertendo tipo do array\n",
      "[[[4.  1.6 7.2 1.6 4.8]\n",
      "  [5.6 1.6 0.8 5.6 5.6]\n",
      "  [0.8 7.2 0.8 2.4 4. ]\n",
      "  [4.  0.  3.2 4.8 1.6]]\n",
      "\n",
      " [[4.8 0.8 0.  1.6 1.6]\n",
      "  [7.2 0.8 5.6 7.2 3.2]\n",
      "  [0.8 7.2 5.6 1.6 7.2]\n",
      "  [5.6 6.4 0.8 0.  0. ]]\n",
      "\n",
      " [[1.6 0.  0.8 4.8 4.8]\n",
      "  [5.6 5.6 4.  5.6 2.4]\n",
      "  [2.4 4.  5.6 4.  4. ]\n",
      "  [5.6 0.8 0.8 3.2 7.2]]]\n"
     ]
    }
   ],
   "source": [
    "print(\"Convertendo tipo do array\")\n",
    "arr7 = np.array(arr7, dtype=float)\n",
    "print(arr7/1.25)"
   ]
  }
 ],
 "metadata": {
  "kernelspec": {
   "display_name": "base",
   "language": "python",
   "name": "python3"
  },
  "language_info": {
   "codemirror_mode": {
    "name": "ipython",
    "version": 3
   },
   "file_extension": ".py",
   "mimetype": "text/x-python",
   "name": "python",
   "nbconvert_exporter": "python",
   "pygments_lexer": "ipython3",
   "version": "3.12.4"
  }
 },
 "nbformat": 4,
 "nbformat_minor": 2
}
