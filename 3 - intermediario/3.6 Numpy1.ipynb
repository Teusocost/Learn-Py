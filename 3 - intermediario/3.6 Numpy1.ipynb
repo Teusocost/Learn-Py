{
 "cells": [
  {
   "cell_type": "code",
   "execution_count": null,
   "metadata": {},
   "outputs": [],
   "source": [
    "import numpy as np\n",
    "\n",
    "arr1 = np.array ([1,2,3,4,5])\n",
    "arr2 = np.array([[1,2,3],[1,2,3]])\n",
    "\n",
    "print(arr1)\n",
    "print(arr2)"
   ]
  },
  {
   "cell_type": "code",
   "execution_count": null,
   "metadata": {},
   "outputs": [],
   "source": [
    "arr1 = arr1+10 \n",
    "print(arr1)\n",
    "\n",
    "arr2 *= 2\n",
    "\n",
    "print(arr2)"
   ]
  },
  {
   "cell_type": "code",
   "execution_count": null,
   "metadata": {},
   "outputs": [],
   "source": [
    "print(arr1[2])\n",
    "print(arr1[2:4])\n",
    "print(arr2[0,2])\n",
    "print(arr2[0:2,2]) #pega os valores da coluna 2"
   ]
  },
  {
   "cell_type": "code",
   "execution_count": 16,
   "metadata": {},
   "outputs": [
    {
     "name": "stdout",
     "output_type": "stream",
     "text": [
      "[ 0.83665564 -0.00885131 -0.8462204  -0.90557836 -0.13235175]\n",
      "[[1.38629436 2.07944154 2.48490665]\n",
      " [1.38629436 2.07944154 2.48490665]]\n"
     ]
    }
   ],
   "source": [
    "seno_array = np.sin(arr1)\n",
    "log_arr2 = np.log(arr2)\n",
    "\n",
    "print(seno_array)\n",
    "print(log_arr2)"
   ]
  }
 ],
 "metadata": {
  "kernelspec": {
   "display_name": "base",
   "language": "python",
   "name": "python3"
  },
  "language_info": {
   "codemirror_mode": {
    "name": "ipython",
    "version": 3
   },
   "file_extension": ".py",
   "mimetype": "text/x-python",
   "name": "python",
   "nbconvert_exporter": "python",
   "pygments_lexer": "ipython3",
   "version": "3.11.7"
  }
 },
 "nbformat": 4,
 "nbformat_minor": 2
}
