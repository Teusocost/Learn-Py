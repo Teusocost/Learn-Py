{
 "cells": [
  {
   "cell_type": "code",
   "execution_count": 1,
   "metadata": {},
   "outputs": [
    {
     "name": "stdout",
     "output_type": "stream",
     "text": [
      "[1 2 3 4 5]\n",
      "[[1 2 3]\n",
      " [1 2 3]]\n"
     ]
    }
   ],
   "source": [
    "import numpy as np\n",
    "\n",
    "arr1 = np.array ([1,2,3,4,5])\n",
    "arr2 = np.array([[1,2,3],[1,2,3]])\n",
    "\n",
    "print(arr1)\n",
    "print(arr2)"
   ]
  },
  {
   "cell_type": "code",
   "execution_count": 2,
   "metadata": {},
   "outputs": [
    {
     "name": "stdout",
     "output_type": "stream",
     "text": [
      "[11 12 13 14 15]\n",
      "[[2 4 6]\n",
      " [2 4 6]]\n"
     ]
    }
   ],
   "source": [
    "arr1 = arr1+10 \n",
    "print(arr1)\n",
    "\n",
    "arr2 *= 2\n",
    "\n",
    "print(arr2)"
   ]
  },
  {
   "cell_type": "code",
   "execution_count": 3,
   "metadata": {},
   "outputs": [
    {
     "name": "stdout",
     "output_type": "stream",
     "text": [
      "13\n",
      "[13 14]\n",
      "6\n",
      "[6 6]\n"
     ]
    }
   ],
   "source": [
    "print(arr1[2])\n",
    "print(arr1[2:4])\n",
    "print(arr2[0,2])\n",
    "print(arr2[0:2,2]) #pega os valores da coluna 2"
   ]
  },
  {
   "cell_type": "code",
   "execution_count": 4,
   "metadata": {},
   "outputs": [
    {
     "name": "stdout",
     "output_type": "stream",
     "text": [
      "[-0.99999021 -0.53657292  0.42016704  0.99060736  0.65028784]\n",
      "[[0.69314718 1.38629436 1.79175947]\n",
      " [0.69314718 1.38629436 1.79175947]]\n"
     ]
    }
   ],
   "source": [
    "seno_array = np.sin(arr1)\n",
    "log_arr2 = np.log(arr2)\n",
    "\n",
    "print(seno_array)\n",
    "print(log_arr2)"
   ]
  }
 ],
 "metadata": {
  "kernelspec": {
   "display_name": "base",
   "language": "python",
   "name": "python3"
  },
  "language_info": {
   "codemirror_mode": {
    "name": "ipython",
    "version": 3
   },
   "file_extension": ".py",
   "mimetype": "text/x-python",
   "name": "python",
   "nbconvert_exporter": "python",
   "pygments_lexer": "ipython3",
   "version": "3.12.4"
  }
 },
 "nbformat": 4,
 "nbformat_minor": 2
}
