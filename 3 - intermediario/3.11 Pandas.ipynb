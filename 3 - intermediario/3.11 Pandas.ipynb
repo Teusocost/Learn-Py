{
 "cells": [
  {
   "cell_type": "code",
   "execution_count": 4,
   "metadata": {},
   "outputs": [
    {
     "name": "stdout",
     "output_type": "stream",
     "text": [
      "     Nome  Idade          Cidade  Peso Estado Civil\n",
      "0    João     22      Nova Prata    70       Casado\n",
      "1   Pedro     15       São Paulo    45     Solteiro\n",
      "2  Marcos     33  Rio de Janeiro    80        Viúvo\n",
      "3   Breno     55   Florianopolis    74     Solteiro\n",
      "4    Hugo     29    Porto Alegre    88     Solteiro\n"
     ]
    }
   ],
   "source": [
    "import pandas as pd\n",
    "\n",
    "df1 = pd.read_csv('dataset.csv')\n",
    "print(df1.head())\n",
    "\n",
    "data = {\n",
    "    'Nome': ['Alice','Bob','Chalie'],\n",
    "    'Idade': [25,30,35],\n",
    "    'Cidade' : ['Niteroi','Montana','São Tomé das Letras']\n",
    "}\n",
    "\n",
    "df2 = pd.DataFrame(data)\n"
   ]
  },
  {
   "cell_type": "markdown",
   "metadata": {},
   "source": [
    "#### Concatenando DataFrames"
   ]
  },
  {
   "cell_type": "code",
   "execution_count": 9,
   "metadata": {},
   "outputs": [
    {
     "name": "stdout",
     "output_type": "stream",
     "text": [
      "Concatenando DF - VERTICAL\n",
      "           Nome  Idade               Cidade   Peso Estado Civil\n",
      "0          João     22           Nova Prata   70.0       Casado\n",
      "1         Pedro     15            São Paulo   45.0     Solteiro\n",
      "2        Marcos     33       Rio de Janeiro   80.0        Viúvo\n",
      "3         Breno     55        Florianopolis   74.0     Solteiro\n",
      "4          Hugo     29         Porto Alegre   88.0     Solteiro\n",
      "5           Bob     36            Saint Ann   37.0       Casado\n",
      "6         Bruno     36              Goiania   72.0       Casado\n",
      "7         Bruno     36              Goiania   72.0       Casado\n",
      "8       Ronaldo     24       Rio de Janeiro   85.0       Casado\n",
      "9         André     10          Passo Fundo   30.0     Solteiro\n",
      "10        Josué     25        Novo Hamburgo   68.0     Solteiro\n",
      "11         Enzo      3          Nova Iorque   15.0     Solteiro\n",
      "12        Tiago     22         Porto Alegre   60.0     Solteiro\n",
      "13         José     40             Camboriú   70.0       Casado\n",
      "14        Pedro     20             Campinas   68.0     Solteiro\n",
      "15         João     50              Jaraguá  105.0   Divorciado\n",
      "16     Jerônimo     35               Maceió   72.0   Divorciado\n",
      "17     Jerônimo     35               Maceió   72.0   Divorciado\n",
      "18       Chaves      9     Cidade do México   22.0     Solteiro\n",
      "19    Chiquinha     10     Cidade do México   30.0     Solteiro\n",
      "20         Kiko      9     Cidade do México   35.0     Solteiro\n",
      "21      Madruga     45     Cidade do México   65.0        Viúvo\n",
      "22       Helena     25            São Paulo   60.0     Solteira\n",
      "23        Laura     30       Rio de Janeiro   65.0       Casada\n",
      "24       Sophia     22       Belo Horizonte   55.0     Solteira\n",
      "25  Maria Alice     28             Brasília   62.0   Divorciada\n",
      "26      Manuela     27             Curitiba   61.0     Solteira\n",
      "27      Cecília     32             Salvador   68.0       Casada\n",
      "28      Cecília     45              Aracaju   55.0       Casada\n",
      "29     Isabella     26               Recife   63.0     Solteira\n",
      "30        Luísa     29            Fortaleza   64.0       Casada\n",
      "31        Júlia     24        Florianópolis   58.0     Solteira\n",
      "32        Júlia     24        Florianópolis   58.0     Solteira\n",
      "33         Ayla     31         Porto Alegre   67.0        Viúva\n",
      "0         Alice     25              Niteroi    NaN          NaN\n",
      "1           Bob     30              Montana    NaN          NaN\n",
      "2        Chalie     35  São Tomé das Letras    NaN          NaN\n",
      "Concatenando DF - HORIZONTAL\n",
      "           Nome  Idade            Cidade  Peso Estado Civil    Nome  Idade  \\\n",
      "0          João     22        Nova Prata    70       Casado   Alice   25.0   \n",
      "1         Pedro     15         São Paulo    45     Solteiro     Bob   30.0   \n",
      "2        Marcos     33    Rio de Janeiro    80        Viúvo  Chalie   35.0   \n",
      "3         Breno     55     Florianopolis    74     Solteiro     NaN    NaN   \n",
      "4          Hugo     29      Porto Alegre    88     Solteiro     NaN    NaN   \n",
      "5           Bob     36         Saint Ann    37       Casado     NaN    NaN   \n",
      "6         Bruno     36           Goiania    72       Casado     NaN    NaN   \n",
      "7         Bruno     36           Goiania    72       Casado     NaN    NaN   \n",
      "8       Ronaldo     24    Rio de Janeiro    85       Casado     NaN    NaN   \n",
      "9         André     10       Passo Fundo    30     Solteiro     NaN    NaN   \n",
      "10        Josué     25     Novo Hamburgo    68     Solteiro     NaN    NaN   \n",
      "11         Enzo      3       Nova Iorque    15     Solteiro     NaN    NaN   \n",
      "12        Tiago     22      Porto Alegre    60     Solteiro     NaN    NaN   \n",
      "13         José     40          Camboriú    70       Casado     NaN    NaN   \n",
      "14        Pedro     20          Campinas    68     Solteiro     NaN    NaN   \n",
      "15         João     50           Jaraguá   105   Divorciado     NaN    NaN   \n",
      "16     Jerônimo     35            Maceió    72   Divorciado     NaN    NaN   \n",
      "17     Jerônimo     35            Maceió    72   Divorciado     NaN    NaN   \n",
      "18       Chaves      9  Cidade do México    22     Solteiro     NaN    NaN   \n",
      "19    Chiquinha     10  Cidade do México    30     Solteiro     NaN    NaN   \n",
      "20         Kiko      9  Cidade do México    35     Solteiro     NaN    NaN   \n",
      "21      Madruga     45  Cidade do México    65        Viúvo     NaN    NaN   \n",
      "22       Helena     25         São Paulo    60     Solteira     NaN    NaN   \n",
      "23        Laura     30    Rio de Janeiro    65       Casada     NaN    NaN   \n",
      "24       Sophia     22    Belo Horizonte    55     Solteira     NaN    NaN   \n",
      "25  Maria Alice     28          Brasília    62   Divorciada     NaN    NaN   \n",
      "26      Manuela     27          Curitiba    61     Solteira     NaN    NaN   \n",
      "27      Cecília     32          Salvador    68       Casada     NaN    NaN   \n",
      "28      Cecília     45           Aracaju    55       Casada     NaN    NaN   \n",
      "29     Isabella     26            Recife    63     Solteira     NaN    NaN   \n",
      "30        Luísa     29         Fortaleza    64       Casada     NaN    NaN   \n",
      "31        Júlia     24     Florianópolis    58     Solteira     NaN    NaN   \n",
      "32        Júlia     24     Florianópolis    58     Solteira     NaN    NaN   \n",
      "33         Ayla     31      Porto Alegre    67        Viúva     NaN    NaN   \n",
      "\n",
      "                 Cidade  \n",
      "0               Niteroi  \n",
      "1               Montana  \n",
      "2   São Tomé das Letras  \n",
      "3                   NaN  \n",
      "4                   NaN  \n",
      "5                   NaN  \n",
      "6                   NaN  \n",
      "7                   NaN  \n",
      "8                   NaN  \n",
      "9                   NaN  \n",
      "10                  NaN  \n",
      "11                  NaN  \n",
      "12                  NaN  \n",
      "13                  NaN  \n",
      "14                  NaN  \n",
      "15                  NaN  \n",
      "16                  NaN  \n",
      "17                  NaN  \n",
      "18                  NaN  \n",
      "19                  NaN  \n",
      "20                  NaN  \n",
      "21                  NaN  \n",
      "22                  NaN  \n",
      "23                  NaN  \n",
      "24                  NaN  \n",
      "25                  NaN  \n",
      "26                  NaN  \n",
      "27                  NaN  \n",
      "28                  NaN  \n",
      "29                  NaN  \n",
      "30                  NaN  \n",
      "31                  NaN  \n",
      "32                  NaN  \n",
      "33                  NaN  \n"
     ]
    }
   ],
   "source": [
    "#print(df1)\n",
    "print(\"Concatenando DF - VERTICAL\")\n",
    "df_concat_vertical = pd.concat([df1,df2],axis = 0)\n",
    "print(df_concat_vertical)\n",
    "\n",
    "print(\"Concatenando DF - HORIZONTAL\")\n",
    "df_concat_hotizontal = pd.concat([df1,df2],axis = 1)\n",
    "print(df_concat_hotizontal)\n",
    "\n",
    "df1 = df_concat_vertical #por fim vertical fica como padrao"
   ]
  },
  {
   "cell_type": "markdown",
   "metadata": {},
   "source": [
    "#### Substituindo pesos NaN por média"
   ]
  },
  {
   "cell_type": "code",
   "execution_count": null,
   "metadata": {},
   "outputs": [],
   "source": [
    "print(\"substituindo pesos NaN por média\")\n",
    "df1.fillna({'Peso': df1['Peso'].mean()}, inplace=True)\n",
    "print(df1)\n",
    "\n",
    "print(\"substituindo Estado Civil NaN por NDA\")\n",
    "df1.fillna({'Estado Civil': 'NDA'}, inplace=True)\n",
    "print(df1)\n"
   ]
  },
  {
   "cell_type": "markdown",
   "metadata": {},
   "source": [
    "#### Verificando valores Null"
   ]
  },
  {
   "cell_type": "code",
   "execution_count": 13,
   "metadata": {},
   "outputs": [
    {
     "name": "stdout",
     "output_type": "stream",
     "text": [
      "Verificando valores Null\n",
      "Não existem valores nulos\n"
     ]
    }
   ],
   "source": [
    "print(\"Verificando valores Null\")\n",
    "nao_existe_nulos = not df1.isnull().values.any().any()\n",
    "if nao_existe_nulos:\n",
    "    print(\"Não existem valores nulos\")\n",
    "else:\n",
    "    print(\"Existem valores nulos\")\n"
   ]
  },
  {
   "cell_type": "markdown",
   "metadata": {},
   "source": [
    "#### Criando relatorio"
   ]
  },
  {
   "cell_type": "code",
   "execution_count": 14,
   "metadata": {},
   "outputs": [
    {
     "name": "stdout",
     "output_type": "stream",
     "text": [
      "Gerando relatório\n",
      "Nome            30\n",
      "Idade           22\n",
      "Cidade          29\n",
      "Peso            24\n",
      "Estado Civil     9\n",
      "dtype: int64\n"
     ]
    }
   ],
   "source": [
    "print(\"Gerando relatório\")\n",
    "print(df1.nunique())\n"
   ]
  }
 ],
 "metadata": {
  "kernelspec": {
   "display_name": "base",
   "language": "python",
   "name": "python3"
  },
  "language_info": {
   "codemirror_mode": {
    "name": "ipython",
    "version": 3
   },
   "file_extension": ".py",
   "mimetype": "text/x-python",
   "name": "python",
   "nbconvert_exporter": "python",
   "pygments_lexer": "ipython3",
   "version": "3.12.4"
  }
 },
 "nbformat": 4,
 "nbformat_minor": 2
}
