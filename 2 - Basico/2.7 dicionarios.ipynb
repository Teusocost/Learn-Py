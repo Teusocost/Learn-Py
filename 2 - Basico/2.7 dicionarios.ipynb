{
 "cells": [
  {
   "cell_type": "markdown",
   "metadata": {},
   "source": [
    "Dicionarios"
   ]
  },
  {
   "cell_type": "code",
   "execution_count": null,
   "metadata": {},
   "outputs": [],
   "source": [
    "inf = {\n",
    "    'nome'   : 'zeze',\n",
    "    'idade'  : 30,\n",
    "    'cidade' : \"Porto Alegre\"\n",
    "\n",
    "}\n",
    "\n",
    "print(inf['nome'])"
   ]
  },
  {
   "cell_type": "markdown",
   "metadata": {},
   "source": [
    "Acessando chaves (keys)"
   ]
  },
  {
   "cell_type": "code",
   "execution_count": null,
   "metadata": {},
   "outputs": [],
   "source": [
    "inf['nome'] = [\"zeze\",\"Joao\"]\n",
    "print(inf['nome'])\n",
    "print(inf['nome'][0])"
   ]
  },
  {
   "cell_type": "markdown",
   "metadata": {},
   "source": [
    "Adicionar listas dentro de dicionarios"
   ]
  },
  {
   "cell_type": "code",
   "execution_count": null,
   "metadata": {},
   "outputs": [],
   "source": [
    "inf['nome'] = [[\"zeze\",\"silva\"],\"Joao\"]\n",
    "print(inf['nome'][0][1])"
   ]
  },
  {
   "cell_type": "markdown",
   "metadata": {},
   "source": [
    "Remover key - pop retorna o valor removido"
   ]
  },
  {
   "cell_type": "code",
   "execution_count": null,
   "metadata": {},
   "outputs": [],
   "source": [
    "print(inf.pop('cidade'))\n",
    "print(inf)"
   ]
  },
  {
   "cell_type": "markdown",
   "metadata": {},
   "source": [
    "Adicionar ou alterar keys ao dicionario"
   ]
  },
  {
   "cell_type": "code",
   "execution_count": null,
   "metadata": {},
   "outputs": [],
   "source": [
    "inf['pais'] = 'Brasil'\n",
    "print(inf) "
   ]
  },
  {
   "cell_type": "markdown",
   "metadata": {},
   "source": [
    "Adicionando elementos a key:"
   ]
  },
  {
   "cell_type": "code",
   "execution_count": null,
   "metadata": {},
   "outputs": [],
   "source": [
    "inf['nome'] = [\"zeze\",\"joao\"]\n",
    "var = inf['nome']\n",
    "var.append('josias')\n",
    "inf['nome'] = var\n",
    "print(inf['nome'])\n",
    "\n",
    "#or\n",
    "\n",
    "inf['nome'].append('valor')\n",
    "print(inf['nome'])"
   ]
  },
  {
   "cell_type": "markdown",
   "metadata": {},
   "source": [
    "Usando metodos de cada objeto dentro de lista"
   ]
  },
  {
   "cell_type": "code",
   "execution_count": null,
   "metadata": {},
   "outputs": [],
   "source": [
    "print(inf['nome'][0].upper())"
   ]
  },
  {
   "cell_type": "markdown",
   "metadata": {},
   "source": [
    "Para apagar o dicionario:"
   ]
  },
  {
   "cell_type": "code",
   "execution_count": null,
   "metadata": {},
   "outputs": [],
   "source": [
    "inf.clear()\n",
    "print(inf)\n",
    "del inf #se printar fala que n existe\n"
   ]
  },
  {
   "cell_type": "markdown",
   "metadata": {},
   "source": [
    "Outras abordagens"
   ]
  },
  {
   "cell_type": "code",
   "execution_count": 4,
   "metadata": {},
   "outputs": [
    {
     "name": "stdout",
     "output_type": "stream",
     "text": [
      "{'altura': 1.8}\n",
      "peso non existe\n",
      "40\n",
      "{'altura': 1.8, 'peso': 40}\n"
     ]
    }
   ],
   "source": [
    "dicio = {\n",
    "    'altura' : 1.8,\n",
    "\n",
    "}\n",
    "\n",
    "print(dicio)\n",
    "print(\"peso\", dicio.get('peso', 'non existe')) #usar para quando o print direto da erro\n",
    "\n",
    "if dicio.get('peso' , '0') == '0':\n",
    "    dicio['peso'] = int(input(\"não existe - Digite o peso: \"))\n",
    "    print(dicio['peso'])\n",
    "    print(dicio)\n",
    "else:\n",
    "    print(dicio['peso'])"
   ]
  }
 ],
 "metadata": {
  "kernelspec": {
   "display_name": "base",
   "language": "python",
   "name": "python3"
  },
  "language_info": {
   "codemirror_mode": {
    "name": "ipython",
    "version": 3
   },
   "file_extension": ".py",
   "mimetype": "text/x-python",
   "name": "python",
   "nbconvert_exporter": "python",
   "pygments_lexer": "ipython3",
   "version": "3.11.7"
  }
 },
 "nbformat": 4,
 "nbformat_minor": 2
}
