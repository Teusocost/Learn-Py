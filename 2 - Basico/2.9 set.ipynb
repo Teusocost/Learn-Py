{
 "cells": [
  {
   "cell_type": "code",
   "execution_count": null,
   "metadata": {},
   "outputs": [],
   "source": [
    "frutas1 = {'maça','banana','uva','laranja'}\n",
    "print(frutas1)\n",
    "frutas1.add('morango')\n",
    "print(frutas1)\n",
    "frutas1.remove('maça')\n",
    "print(frutas1)"
   ]
  },
  {
   "cell_type": "code",
   "execution_count": 7,
   "metadata": {},
   "outputs": [
    {
     "name": "stdout",
     "output_type": "stream",
     "text": [
      "{'pera', 'uva', 'laranja', 'abacaxi', 'pêssego', 'morango', 'banana'}\n"
     ]
    }
   ],
   "source": [
    "frutas2 = {'uva','pêssego','abacaxi','pera','laranja'}\n",
    "\n",
    "uniao = frutas1.union(frutas2)\n",
    "print(uniao)"
   ]
  },
  {
   "cell_type": "markdown",
   "metadata": {},
   "source": [
    "intersection and difference"
   ]
  },
  {
   "cell_type": "code",
   "execution_count": 9,
   "metadata": {},
   "outputs": [
    {
     "name": "stdout",
     "output_type": "stream",
     "text": [
      "{'laranja', 'uva'}\n",
      "{'morango', 'banana'}\n",
      "tem morango em frutas 2?  False\n"
     ]
    }
   ],
   "source": [
    "intersecao = frutas1.intersection(frutas2)\n",
    "print(intersecao)\n",
    "\n",
    "diference = frutas1.difference(frutas2)\n",
    "print(diference)\n",
    "\n",
    "print('tem morango em frutas 2? ', 'morango' in frutas2)"
   ]
  },
  {
   "cell_type": "markdown",
   "metadata": {},
   "source": [
    "insubset "
   ]
  },
  {
   "cell_type": "code",
   "execution_count": 12,
   "metadata": {},
   "outputs": [
    {
     "name": "stdout",
     "output_type": "stream",
     "text": [
      "frutas 2 é subconjunto de frutas 1 ? False\n",
      "frutas 2 é subconjunto de frutas 1 ? True\n"
     ]
    }
   ],
   "source": [
    "print('frutas 2 é subconjunto de frutas 1 ?', frutas2.issubset(frutas1))\n",
    "print('frutas 2 é subconjunto de frutas 1 ?', frutas2.issubset(uniao))"
   ]
  }
 ],
 "metadata": {
  "kernelspec": {
   "display_name": "base",
   "language": "python",
   "name": "python3"
  },
  "language_info": {
   "codemirror_mode": {
    "name": "ipython",
    "version": 3
   },
   "file_extension": ".py",
   "mimetype": "text/x-python",
   "name": "python",
   "nbconvert_exporter": "python",
   "pygments_lexer": "ipython3",
   "version": "3.11.7"
  }
 },
 "nbformat": 4,
 "nbformat_minor": 2
}
