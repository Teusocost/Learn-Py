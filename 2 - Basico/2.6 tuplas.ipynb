{
 "cells": [
  {
   "cell_type": "markdown",
   "metadata": {},
   "source": [
    "Tuplas são somente para leitura!"
   ]
  },
  {
   "cell_type": "code",
   "execution_count": 11,
   "metadata": {},
   "outputs": [
    {
     "name": "stdout",
     "output_type": "stream",
     "text": [
      "(1, 2, 3, 4, 5)\n",
      "Acessando o elemento index 2 = 3\n",
      "Ultimo elemento da memoria =  5\n",
      "slicing - retonrnado elemento 2 - 5 (3, 4, 5)\n",
      "valor 3 está na tupla? True\n",
      "valor 3 está na tupla? False\n"
     ]
    }
   ],
   "source": [
    "tupla = (1,2,3,4,5)\n",
    "\n",
    "print(tupla)\n",
    "print(\"Acessando o elemento index 2 =\", tupla[2])\n",
    "print(\"Ultimo elemento da memoria = \", tupla[-1])\n",
    "print(\"slicing - retonrnado elemento 2 - 5\", tupla[2:5])\n",
    "print(\"valor 3 está na tupla?\", 3 in tupla)\n",
    "print(\"valor 3 está na tupla?\", 3 not in tupla)\n"
   ]
  },
  {
   "cell_type": "markdown",
   "metadata": {},
   "source": [
    "Tranformando listas em tuplas"
   ]
  },
  {
   "cell_type": "code",
   "execution_count": 12,
   "metadata": {},
   "outputs": [
    {
     "name": "stdout",
     "output_type": "stream",
     "text": [
      "[1, 2, 3, 10, 20, 30, 40]\n",
      "(1, 2, 3, 10, 20, 30, 40)\n"
     ]
    }
   ],
   "source": [
    "var = [1,2,3]\n",
    "var.append(10)\n",
    "var.extend([20,30,40])\n",
    "print(var)\n",
    "var = tuple(var)\n",
    "print(var)"
   ]
  }
 ],
 "metadata": {
  "kernelspec": {
   "display_name": "base",
   "language": "python",
   "name": "python3"
  },
  "language_info": {
   "codemirror_mode": {
    "name": "ipython",
    "version": 3
   },
   "file_extension": ".py",
   "mimetype": "text/x-python",
   "name": "python",
   "nbconvert_exporter": "python",
   "pygments_lexer": "ipython3",
   "version": "3.11.7"
  }
 },
 "nbformat": 4,
 "nbformat_minor": 2
}
